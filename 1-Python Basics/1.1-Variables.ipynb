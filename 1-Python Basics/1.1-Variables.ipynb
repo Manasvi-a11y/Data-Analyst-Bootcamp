{
 "cells": [
  {
   "cell_type": "markdown",
   "metadata": {},
   "source": [
    "a=100"
   ]
  },
  {
   "cell_type": "code",
   "execution_count": null,
   "metadata": {},
   "outputs": [],
   "source": [
    "a=100"
   ]
  },
  {
   "cell_type": "code",
   "execution_count": null,
   "metadata": {},
   "outputs": [],
   "source": [
    "## Declaring and Assigning Variables\n",
    "age=32\n",
    "height=6.1\n",
    "name=\"Virat\"\n",
    "is_student=True\n",
    "\n",
    "## printing the variables\n",
    "print(\"age :\", age)\n",
    "print(\"Height\", height)\n",
    "print(\"Name:\",name)"
   ]
  },
  {
   "cell_type": "code",
   "execution_count": null,
   "metadata": {},
   "outputs": [],
   "source": [
    " ## Naming Conventions\n",
    "## Variables names should be descriptive\n",
    "## They must start with a letter or  '-' and contains letter , numbers and underscores\n",
    "## variables names case sensitive\n",
    "\n",
    "## valid names\n",
    "\n",
    "first_name=\"Manasvi\"\n",
    "last_name=\"Verma\" "
   ]
  },
  {
   "cell_type": "code",
   "execution_count": null,
   "metadata": {},
   "outputs": [],
   "source": [
    "## python is dynamicaly typed, type of a variable is determinedat runtime\n",
    "age=25 #int\n",
    "height=6.1 #float\n",
    "name=\"Manasvi\"#str\n",
    "is_student=True #bool\n",
    "\n",
    "print(type(height))"
   ]
  },
  {
   "cell_type": "code",
   "execution_count": null,
   "metadata": {},
   "outputs": [],
   "source": [
    "## input\n",
    "\n",
    "age=int(input(\"what is your age\"))\n",
    "print(age,type(age))\n"
   ]
  },
  {
   "cell_type": "code",
   "execution_count": null,
   "metadata": {},
   "outputs": [],
   "source": [
    "### Simple calculator\n",
    "num1 = float(input(\"Enter first number: \"))\n",
    "num2 = float(input(\"Enter second number: \"))\n",
    "\n",
    "sum = num1 + num2\n",
    "difference = num1 - num2\n",
    "product = nu1* num2\n",
    "quotient = num1 / num2\n",
    "\n",
    "print(\"Sum:\", sum)\n",
    "print(\"Difference:\", difference)\n",
    "print(\"Product:\" ,  product)\n",
    "print(\"quotient:\" , quotient)"
   ]
  }
 ],
 "metadata": {
  "kernelspec": {
   "display_name": "Python 3",
   "language": "python",
   "name": "python3"
  },
  "language_info": {
   "codemirror_mode": {
    "name": "ipython",
    "version": 3
   },
   "file_extension": ".py",
   "mimetype": "text/x-python",
   "name": "python",
   "nbconvert_exporter": "python",
   "pygments_lexer": "ipython3",
   "version": "3.12.0"
  }
 },
 "nbformat": 4,
 "nbformat_minor": 2
}
