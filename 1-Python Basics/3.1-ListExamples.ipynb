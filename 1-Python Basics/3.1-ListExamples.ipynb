{
 "cells": [
  {
   "cell_type": "code",
   "execution_count": 4,
   "metadata": {},
   "outputs": [
    {
     "name": "stdout",
     "output_type": "stream",
     "text": [
      "Average Grade : 88.00\n",
      "Highest Grade:95\n",
      "Lowest Grade:78\n"
     ]
    }
   ],
   "source": [
    "#Organising student grades\n",
    "grades =[85,92,78,90,88]\n",
    "\n",
    "# Adding a new grade\n",
    "grades.append(95)\n",
    "\n",
    "#Calculating the average grade\n",
    "average_grade = sum(grades)/len(grades)\n",
    "print(f\"Average Grade : {average_grade:.2f}\")\n",
    "\n",
    "#Finding the highest and lowest grades\n",
    "highest_grade = max(grades)\n",
    "lowest_grade = min(grades)\n",
    "print(f\"Highest Grade:{highest_grade}\")\n",
    "print(f\"Lowest Grade:{lowest_grade}\")"
   ]
  }
 ],
 "metadata": {
  "kernelspec": {
   "display_name": "Python 3",
   "language": "python",
   "name": "python3"
  },
  "language_info": {
   "codemirror_mode": {
    "name": "ipython",
    "version": 3
   },
   "file_extension": ".py",
   "mimetype": "text/x-python",
   "name": "python",
   "nbconvert_exporter": "python",
   "pygments_lexer": "ipython3",
   "version": "3.12.0"
  }
 },
 "nbformat": 4,
 "nbformat_minor": 2
}
