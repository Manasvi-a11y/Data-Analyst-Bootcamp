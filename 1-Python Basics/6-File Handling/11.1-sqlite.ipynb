{
 "cells": [
  {
   "cell_type": "code",
   "execution_count": 54,
   "metadata": {},
   "outputs": [],
   "source": [
    "import sqlite3"
   ]
  },
  {
   "cell_type": "code",
   "execution_count": 55,
   "metadata": {},
   "outputs": [
    {
     "data": {
      "text/plain": [
       "<sqlite3.Connection at 0x1a062a39c60>"
      ]
     },
     "execution_count": 55,
     "metadata": {},
     "output_type": "execute_result"
    }
   ],
   "source": [
    "##connect to SQLite database\n",
    "connection=sqlite3.connect('example.db')\n",
    "connection"
   ]
  },
  {
   "cell_type": "code",
   "execution_count": 58,
   "metadata": {},
   "outputs": [],
   "source": [
    "## create function to new SQLITE3 database named test.db\n",
    "\n",
    "import sqlite3\n",
    "\n",
    "def create_database():\n",
    "    conn= sqlite3.connect('test.db')\n",
    "    conn.close()\n",
    "    print(\"Database created and successfully connected.\")\n",
    "\n",
    "    create_database()"
   ]
  },
  {
   "cell_type": "code",
   "execution_count": 61,
   "metadata": {},
   "outputs": [],
   "source": [
    "##write python function to create named employees, id, age,department\n",
    "def create_table():\n",
    "    conn = sqlite3.connect('test.db')\n",
    "    cursor = conn.cursor()\n",
    "    cursor.execute('''\n",
    "    CREATE TABLE IF NOT EXISTS employees (  \n",
    "        id INTEGER PRIMARY KEY,\n",
    "        name TEXT PRIMARY KEY,      \n",
    "        age INTEGER,   \n",
    "        department TEXT\n",
    "        )\n",
    "    ''')\n",
    "    conn.commit()\n",
    "    conn.close()\n",
    "    print(\"Table 'employees' created successfully.\") \n",
    "\n",
    "    create_table()  \n",
    "\n"
   ]
  },
  {
   "cell_type": "code",
   "execution_count": 62,
   "metadata": {},
   "outputs": [],
   "source": [
    "##new employee insert onto employees table\n",
    "def insert_employee(id,name,age,department):\n",
    "    conn = sqlite3.connect('test.db')\n",
    "    cursor = conn.cursor()\n",
    "    cursor.execute('''\n",
    "      INSERT INTO employees (id,name,age,department)\n",
    "      VALUES(?,?,?,?)\n",
    "    ''', (id,name,age,department))\n",
    "    conn.commit()\n",
    "    conn.close()\n",
    "    print(\"Employee inserted successfully.\")\n",
    "\n",
    "    insert_employee(1,'Alice',30,'HR')"
   ]
  },
  {
   "cell_type": "code",
   "execution_count": 63,
   "metadata": {},
   "outputs": [
    {
     "ename": "OperationalError",
     "evalue": "no such table: employees",
     "output_type": "error",
     "traceback": [
      "\u001b[1;31m---------------------------------------------------------------------------\u001b[0m",
      "\u001b[1;31mOperationalError\u001b[0m                          Traceback (most recent call last)",
      "Cell \u001b[1;32mIn[63], line 2\u001b[0m\n\u001b[0;32m      1\u001b[0m \u001b[38;5;66;03m##Insert empployees in table\u001b[39;00m\n\u001b[1;32m----> 2\u001b[0m \u001b[43minsert_employee\u001b[49m\u001b[43m(\u001b[49m\u001b[38;5;241;43m2\u001b[39;49m\u001b[43m,\u001b[49m\u001b[38;5;124;43m'\u001b[39;49m\u001b[38;5;124;43mBob\u001b[39;49m\u001b[38;5;124;43m'\u001b[39;49m\u001b[43m,\u001b[49m\u001b[38;5;241;43m25\u001b[39;49m\u001b[43m,\u001b[49m\u001b[38;5;124;43m'\u001b[39;49m\u001b[38;5;124;43mEngineering\u001b[39;49m\u001b[38;5;124;43m'\u001b[39;49m\u001b[43m)\u001b[49m\n\u001b[0;32m      3\u001b[0m insert_employee(\u001b[38;5;241m3\u001b[39m,\u001b[38;5;124m'\u001b[39m\u001b[38;5;124mRonak\u001b[39m\u001b[38;5;124m'\u001b[39m,\u001b[38;5;241m32\u001b[39m, \u001b[38;5;124m'\u001b[39m\u001b[38;5;124mSales\u001b[39m\u001b[38;5;124m'\u001b[39m)\n\u001b[0;32m      4\u001b[0m insert_employee(\u001b[38;5;241m4\u001b[39m,\u001b[38;5;124m'\u001b[39m\u001b[38;5;124mDavid\u001b[39m\u001b[38;5;124m'\u001b[39m,\u001b[38;5;241m25\u001b[39m,\u001b[38;5;124m'\u001b[39m\u001b[38;5;124mMarketing\u001b[39m\u001b[38;5;124m'\u001b[39m)\n",
      "Cell \u001b[1;32mIn[62], line 5\u001b[0m, in \u001b[0;36minsert_employee\u001b[1;34m(id, name, age, department)\u001b[0m\n\u001b[0;32m      3\u001b[0m conn \u001b[38;5;241m=\u001b[39m sqlite3\u001b[38;5;241m.\u001b[39mconnect(\u001b[38;5;124m'\u001b[39m\u001b[38;5;124mtest.db\u001b[39m\u001b[38;5;124m'\u001b[39m)\n\u001b[0;32m      4\u001b[0m cursor \u001b[38;5;241m=\u001b[39m conn\u001b[38;5;241m.\u001b[39mcursor()\n\u001b[1;32m----> 5\u001b[0m \u001b[43mcursor\u001b[49m\u001b[38;5;241;43m.\u001b[39;49m\u001b[43mexecute\u001b[49m\u001b[43m(\u001b[49m\u001b[38;5;124;43m'''\u001b[39;49m\n\u001b[0;32m      6\u001b[0m \u001b[38;5;124;43m  INSERT INTO employees (id,name,age,department)\u001b[39;49m\n\u001b[0;32m      7\u001b[0m \u001b[38;5;124;43m  VALUES(?,?,?,?)\u001b[39;49m\n\u001b[0;32m      8\u001b[0m \u001b[38;5;124;43m\u001b[39;49m\u001b[38;5;124;43m'''\u001b[39;49m\u001b[43m,\u001b[49m\u001b[43m \u001b[49m\u001b[43m(\u001b[49m\u001b[38;5;28;43mid\u001b[39;49m\u001b[43m,\u001b[49m\u001b[43mname\u001b[49m\u001b[43m,\u001b[49m\u001b[43mage\u001b[49m\u001b[43m,\u001b[49m\u001b[43mdepartment\u001b[49m\u001b[43m)\u001b[49m\u001b[43m)\u001b[49m\n\u001b[0;32m      9\u001b[0m conn\u001b[38;5;241m.\u001b[39mcommit()\n\u001b[0;32m     10\u001b[0m conn\u001b[38;5;241m.\u001b[39mclose()\n",
      "\u001b[1;31mOperationalError\u001b[0m: no such table: employees"
     ]
    }
   ],
   "source": [
    "##Insert empployees in table\n",
    "insert_employee(2,'Bob',25,'Engineering')\n",
    "insert_employee(3,'Ronak',32, 'Sales')\n",
    "insert_employee(4,'David',25,'Marketing')\n",
    "insert_employee(5,'Eve',45,'HR')"
   ]
  },
  {
   "cell_type": "code",
   "execution_count": 46,
   "metadata": {},
   "outputs": [],
   "source": [
    "## fetch and display all records from employee table\n",
    "def fetch_employee():\n",
    "    conn = sqlite3.connect('test.db')\n",
    "    cursor = conn.cursor()\n",
    "    cursor.execute('SELECT * FROM employee')\n",
    "    records = cursor.fetchall()\n",
    "    conn.close()\n",
    "    for record in records:\n",
    "        print(record)\n",
    "\n",
    "    fetch_all_employees()"
   ]
  },
  {
   "cell_type": "code",
   "execution_count": 47,
   "metadata": {},
   "outputs": [],
   "source": [
    "##fetch all employee and display all employee in specific department\n",
    "\n",
    "def fetch_employees_by_department(department):\n",
    "    conn=sqlite3.coonect('test.db')\n",
    "    cursor = conn.cursor()\n",
    "    cursor.excute('SELECT * FROM employee WHERE department = ?', (department,))\n",
    "    records = cursor.fetchall()\n",
    "    conn.close()\n",
    "    for record in records:\n",
    "        print(record)\n",
    "\n",
    "        fetch_employees_by_department('Engineering')"
   ]
  },
  {
   "cell_type": "code",
   "execution_count": 48,
   "metadata": {},
   "outputs": [],
   "source": [
    "##update department of an employee based on their id\n",
    "def update_employee_department(employee_id, new_department):\n",
    "    conn = sqlite3.connect('test.db')\n",
    "    cursor=conn.cursor()\n",
    "    cursor.execute('''\n",
    "        UPDATE employees\n",
    "        SET department = ?\n",
    "         WHERE id = ?\n",
    "''',(new_department,employee_id))\n",
    "    conn.commit()\n",
    "    conn.close()\n",
    "    print(\"Employee department updated successsfully.\")\n",
    "\n",
    "    update_employee_department(1,'Finanace')"
   ]
  },
  {
   "cell_type": "code",
   "execution_count": 49,
   "metadata": {},
   "outputs": [
    {
     "ename": "OperationalError",
     "evalue": "no such table: employees",
     "output_type": "error",
     "traceback": [
      "\u001b[1;31m---------------------------------------------------------------------------\u001b[0m",
      "\u001b[1;31mOperationalError\u001b[0m                          Traceback (most recent call last)",
      "Cell \u001b[1;32mIn[49], line 2\u001b[0m\n\u001b[0;32m      1\u001b[0m \u001b[38;5;66;03m##update the department atleast 2 employee and update it \u001b[39;00m\n\u001b[1;32m----> 2\u001b[0m \u001b[43mupdate_employee_department\u001b[49m\u001b[43m(\u001b[49m\u001b[38;5;241;43m2\u001b[39;49m\u001b[43m,\u001b[49m\u001b[38;5;124;43m'\u001b[39;49m\u001b[38;5;124;43mResearch\u001b[39;49m\u001b[38;5;124;43m'\u001b[39;49m\u001b[43m)\u001b[49m\n\u001b[0;32m      3\u001b[0m update_employee_department(\u001b[38;5;241m3\u001b[39m,\u001b[38;5;124m'\u001b[39m\u001b[38;5;124mCustomer Support\u001b[39m\u001b[38;5;124m'\u001b[39m)\n\u001b[0;32m      5\u001b[0m fetch_all_employees()\n",
      "Cell \u001b[1;32mIn[48], line 5\u001b[0m, in \u001b[0;36mupdate_employee_department\u001b[1;34m(employee_id, new_department)\u001b[0m\n\u001b[0;32m      3\u001b[0m     conn \u001b[38;5;241m=\u001b[39m sqlite3\u001b[38;5;241m.\u001b[39mconnect(\u001b[38;5;124m'\u001b[39m\u001b[38;5;124mtest.db\u001b[39m\u001b[38;5;124m'\u001b[39m)\n\u001b[0;32m      4\u001b[0m     cursor\u001b[38;5;241m=\u001b[39mconn\u001b[38;5;241m.\u001b[39mcursor()\n\u001b[1;32m----> 5\u001b[0m     \u001b[43mcursor\u001b[49m\u001b[38;5;241;43m.\u001b[39;49m\u001b[43mexecute\u001b[49m\u001b[43m(\u001b[49m\u001b[38;5;124;43m'''\u001b[39;49m\n\u001b[0;32m      6\u001b[0m \u001b[38;5;124;43m        UPDATE employees\u001b[39;49m\n\u001b[0;32m      7\u001b[0m \u001b[38;5;124;43m        SET department = ?\u001b[39;49m\n\u001b[0;32m      8\u001b[0m \u001b[38;5;124;43m         WHERE id = ?\u001b[39;49m\n\u001b[0;32m      9\u001b[0m \u001b[38;5;124;43m'''\u001b[39;49m\u001b[43m,\u001b[49m\u001b[43m(\u001b[49m\u001b[43mnew_department\u001b[49m\u001b[43m,\u001b[49m\u001b[43memployee_id\u001b[49m\u001b[43m)\u001b[49m\u001b[43m)\u001b[49m\n\u001b[0;32m     10\u001b[0m     conn\u001b[38;5;241m.\u001b[39mcommit()\n\u001b[0;32m     11\u001b[0m     conn\u001b[38;5;241m.\u001b[39mclose()\n",
      "\u001b[1;31mOperationalError\u001b[0m: no such table: employees"
     ]
    }
   ],
   "source": [
    "##update the department atleast 2 employee and update it \n",
    "update_employee_department(2,'Research')\n",
    "update_employee_department(3,'Customer Support')\n",
    "\n",
    "fetch_all_employees()"
   ]
  },
  {
   "cell_type": "code",
   "execution_count": 64,
   "metadata": {},
   "outputs": [],
   "source": [
    "##delete an employee from employees table based on id\n",
    "def delete_employee(employee_id):\n",
    "    conn= sqlite3.connect('test.db')\n",
    "    cursor=conn.cursor()\n",
    "    cursor.execute('''\n",
    "DELETE FROM employees\n",
    " WHERE id = ?\n",
    "''', (employee_id,))\n",
    "    conn.commit()\n",
    "    conn.close()\n",
    "    print(\"Employee deleted Successfully.\")\n",
    "    delete_employee(5)"
   ]
  },
  {
   "cell_type": "code",
   "execution_count": null,
   "metadata": {},
   "outputs": [
    {
     "ename": "OperationalError",
     "evalue": "no such table: employees",
     "output_type": "error",
     "traceback": [
      "\u001b[1;31m---------------------------------------------------------------------------\u001b[0m",
      "\u001b[1;31mOperationalError\u001b[0m                          Traceback (most recent call last)",
      "Cell \u001b[1;32mIn[65], line 2\u001b[0m\n\u001b[0;32m      1\u001b[0m \u001b[38;5;66;03m#delete atleast one employee\u001b[39;00m\n\u001b[1;32m----> 2\u001b[0m \u001b[43mdelete_employee\u001b[49m\u001b[43m(\u001b[49m\u001b[38;5;241;43m4\u001b[39;49m\u001b[43m)\u001b[49m\n\u001b[0;32m      4\u001b[0m \u001b[38;5;66;03m#Fetch and display all records\u001b[39;00m\n\u001b[0;32m      5\u001b[0m fetch_all_employees()\n",
      "Cell \u001b[1;32mIn[64], line 5\u001b[0m, in \u001b[0;36mdelete_employee\u001b[1;34m(employee_id)\u001b[0m\n\u001b[0;32m      3\u001b[0m     conn\u001b[38;5;241m=\u001b[39m sqlite3\u001b[38;5;241m.\u001b[39mconnect(\u001b[38;5;124m'\u001b[39m\u001b[38;5;124mtest.db\u001b[39m\u001b[38;5;124m'\u001b[39m)\n\u001b[0;32m      4\u001b[0m     cursor\u001b[38;5;241m=\u001b[39mconn\u001b[38;5;241m.\u001b[39mcursor()\n\u001b[1;32m----> 5\u001b[0m     \u001b[43mcursor\u001b[49m\u001b[38;5;241;43m.\u001b[39;49m\u001b[43mexecute\u001b[49m\u001b[43m(\u001b[49m\u001b[38;5;124;43m'''\u001b[39;49m\n\u001b[0;32m      6\u001b[0m \u001b[38;5;124;43mDELETE FROM employees\u001b[39;49m\n\u001b[0;32m      7\u001b[0m \u001b[38;5;124;43m WHERE id = ?\u001b[39;49m\n\u001b[0;32m      8\u001b[0m \u001b[38;5;124;43m'''\u001b[39;49m\u001b[43m,\u001b[49m\u001b[43m \u001b[49m\u001b[43m(\u001b[49m\u001b[43memployee_id\u001b[49m\u001b[43m,\u001b[49m\u001b[43m)\u001b[49m\u001b[43m)\u001b[49m\n\u001b[0;32m      9\u001b[0m     conn\u001b[38;5;241m.\u001b[39mcommit()\n\u001b[0;32m     10\u001b[0m     conn\u001b[38;5;241m.\u001b[39mclose()\n",
      "\u001b[1;31mOperationalError\u001b[0m: no such table: employees"
     ]
    },
    {
     "ename": "",
     "evalue": "",
     "output_type": "error",
     "traceback": [
      "\u001b[1;31mThe Kernel crashed while executing code in the current cell or a previous cell. \n",
      "\u001b[1;31mPlease review the code in the cell(s) to identify a possible cause of the failure. \n",
      "\u001b[1;31mClick <a href='https://aka.ms/vscodeJupyterKernelCrash'>here</a> for more info. \n",
      "\u001b[1;31mView Jupyter <a href='command:jupyter.viewOutput'>log</a> for further details."
     ]
    }
   ],
   "source": [
    "#delete atleast one employee\n",
    "delete_employee(4)\n",
    " \n",
    "#Fetch and display all records\n",
    "fetch_all_employees()\n"
   ]
  },
  {
   "cell_type": "code",
   "execution_count": 1,
   "metadata": {},
   "outputs": [],
   "source": [
    "def fetch_employees_older_than(age):\n",
    "    conn = sqlite3.connect('test.db')\n",
    "    cursor = conn.cursor()\n",
    "    cursor.execute('SELECT * FROM employees WHERE age > ?', (age,))\n",
    "    records = cursor.fetchall()\n",
    "    conn.close()\n",
    "    for record in records:\n",
    "        print(record)\n",
    "\n",
    "        fetch_employees_older_than(25)"
   ]
  },
  {
   "cell_type": "code",
   "execution_count": 2,
   "metadata": {},
   "outputs": [],
   "source": [
    "def fetch_employees_name_starts_with(letter):\n",
    "    conn = sqlite3.connect('test.db')\n",
    "    cursor.execute('SELECT * FROM employees WHERE name LIKE ?', (letter + '%',))\n",
    "    records = cursor.fetchall()\n",
    "    conn.close()\n",
    "    for record in records:\n",
    "        print(record)\n",
    "\n",
    "\n",
    "        fetch_employees_name_starts_with('A')"
   ]
  },
  {
   "cell_type": "code",
   "execution_count": 5,
   "metadata": {},
   "outputs": [
    {
     "ename": "NameError",
     "evalue": "name 'conn' is not defined",
     "output_type": "error",
     "traceback": [
      "\u001b[1;31m---------------------------------------------------------------------------\u001b[0m",
      "\u001b[1;31mNameError\u001b[0m                                 Traceback (most recent call last)",
      "Cell \u001b[1;32mIn[5], line 10\u001b[0m\n\u001b[0;32m      3\u001b[0m     cursor \u001b[38;5;241m=\u001b[39m conn \u001b[38;5;241m.\u001b[39mcursor()\n\u001b[0;32m      4\u001b[0m     cursor\u001b[38;5;241m.\u001b[39mexecute(\u001b[38;5;124m'''\u001b[39m\n\u001b[0;32m      5\u001b[0m \u001b[38;5;124m      CREATE TABLE IF NOT EXISTS departments (\u001b[39m\n\u001b[0;32m      6\u001b[0m \u001b[38;5;124m         id INTEGER PRIMARY KEY,\u001b[39m\n\u001b[0;32m      7\u001b[0m \u001b[38;5;124m                   name TEXT NOT NULL\u001b[39m\n\u001b[0;32m      8\u001b[0m \u001b[38;5;124m    )\u001b[39m\n\u001b[0;32m      9\u001b[0m \u001b[38;5;124m'''\u001b[39m)\n\u001b[1;32m---> 10\u001b[0m \u001b[43mconn\u001b[49m\u001b[38;5;241m.\u001b[39mcommit()\n\u001b[0;32m     11\u001b[0m conn\u001b[38;5;241m.\u001b[39mclose() \n\u001b[0;32m     12\u001b[0m \u001b[38;5;28mprint\u001b[39m(\u001b[38;5;124m\"\u001b[39m\u001b[38;5;124mTable \u001b[39m\u001b[38;5;124m'\u001b[39m\u001b[38;5;124mdepartments\u001b[39m\u001b[38;5;124m'\u001b[39m\u001b[38;5;124m created successfully.\u001b[39m\u001b[38;5;124m\"\u001b[39m)\n",
      "\u001b[1;31mNameError\u001b[0m: name 'conn' is not defined"
     ]
    }
   ],
   "source": [
    "def create_departments_table():\n",
    "    conn = sqlite3.connect('test.db')\n",
    "    cursor = conn .cursor()\n",
    "    cursor.execute('''\n",
    "      CREATE TABLE IF NOT EXISTS departments (\n",
    "         id INTEGER PRIMARY KEY,\n",
    "                   name TEXT NOT NULL\n",
    "    )\n",
    "''')\n",
    "conn.commit()\n",
    "conn.close() \n",
    "print(\"Table 'departments' created successfully.\")\n",
    "\n",
    "create_departments_table()"
   ]
  },
  {
   "cell_type": "code",
   "execution_count": 6,
   "metadata": {},
   "outputs": [],
   "source": [
    "def insert_multiple_employees(employees):\n",
    "    conn = sqlite3.connect('test.db')\n",
    "    cursor = conn.cursor()\n",
    "    try:\n",
    "        cursor.executemany('''\n",
    "INSERT INTO employees (id,name,age , department)\n",
    "    VALUES(?,?,?,?)                       \n",
    "''', employees)\n",
    "        conn.commit()\n",
    "        print(\"All employees inserted successfully.\")\n",
    "    except Exception as e:\n",
    "        conn.rollback()\n",
    "        print(\"Error occurred, transaction rolled back.\")\n",
    "        print(e)\n",
    "    finally:\n",
    "        conn.close()\n",
    "\n",
    "        employees = [\n",
    "            (6,'Frank',40,'Finance'),\n",
    "            (7, 'Grace', 29 , 'Engineering'),\n",
    "            (8, 'Hannah',35, 'Marketing'),\n",
    "            (9, 'Ivan', 38, 'sales'),\n",
    "            (6, 'Jack', 45, 'HR' )\n",
    "        ]\n",
    "\n",
    "        insert_multiple_employees(employees)\n",
    "\n"
   ]
  },
  {
   "cell_type": "code",
   "execution_count": 7,
   "metadata": {},
   "outputs": [],
   "source": [
    "def create_index_on_name():\n",
    "    conn = sqlite3.connect('test.db')\n",
    "    cursor = conn.cursor()\n",
    "    cursor.execute('CREATE INDEX idx_name ON employees(name)')\n",
    "    conn.commit()\n",
    "    conn.close()\n",
    "    print(\"Index on 'name' column created successfully.\")\n",
    "\n",
    "    create_index_on_name()"
   ]
  },
  {
   "cell_type": "code",
   "execution_count": 8,
   "metadata": {},
   "outputs": [],
   "source": [
    "import shutil \n",
    "def backup_database():\n",
    "    shutil.copy('test.db','backup.db')\n",
    "    print(\"Database backed up successfully.\")\n",
    "\n",
    "    backup_database()"
   ]
  },
  {
   "cell_type": "code",
   "execution_count": 9,
   "metadata": {},
   "outputs": [],
   "source": [
    "def restore_database():\n",
    "    shutil.copy('backup.db', 'test.db')\n",
    "    print(\"Database restored successfully.\")\n",
    "\n",
    "    restore_database()"
   ]
  },
  {
   "cell_type": "code",
   "execution_count": null,
   "metadata": {},
   "outputs": [],
   "source": [
    "def create_table():\n",
    "    conn = "
   ]
  }
 ],
 "metadata": {
  "kernelspec": {
   "display_name": "venv",
   "language": "python",
   "name": "python3"
  },
  "language_info": {
   "codemirror_mode": {
    "name": "ipython",
    "version": 3
   },
   "file_extension": ".py",
   "mimetype": "text/x-python",
   "name": "python",
   "nbconvert_exporter": "python",
   "pygments_lexer": "ipython3",
   "version": "3.12.0"
  }
 },
 "nbformat": 4,
 "nbformat_minor": 2
}
