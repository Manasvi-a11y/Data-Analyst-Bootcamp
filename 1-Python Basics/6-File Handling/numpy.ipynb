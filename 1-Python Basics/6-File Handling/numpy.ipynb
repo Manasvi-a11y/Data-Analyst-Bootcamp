{
 "cells": [
  {
   "cell_type": "code",
   "execution_count": 1,
   "metadata": {},
   "outputs": [
    {
     "name": "stdout",
     "output_type": "stream",
     "text": [
      "Requirement already satisfied: numpy in c:\\data analyst bootcamp\\venv\\lib\\site-packages (2.1.3)\n"
     ]
    }
   ],
   "source": [
    "!pip install numpy"
   ]
  },
  {
   "cell_type": "code",
   "execution_count": 3,
   "metadata": {},
   "outputs": [
    {
     "name": "stdout",
     "output_type": "stream",
     "text": [
      "[1 2 3 4 5]\n",
      "<class 'numpy.ndarray'>\n",
      "(5,)\n"
     ]
    }
   ],
   "source": [
    "import numpy as np\n",
    "#create array\n",
    "arr1=np.array([1,2,3,4,5])\n",
    "print(arr1)\n",
    "print(type(arr1))\n",
    "print(arr1.shape)\n"
   ]
  },
  {
   "cell_type": "code",
   "execution_count": 5,
   "metadata": {},
   "outputs": [
    {
     "data": {
      "text/plain": [
       "array([[1, 2, 3, 4, 5]])"
      ]
     },
     "execution_count": 5,
     "metadata": {},
     "output_type": "execute_result"
    }
   ],
   "source": [
    "arr2=np.array([[1,2,3,4,5]])\n",
    "arr2.reshape(1,5)"
   ]
  },
  {
   "cell_type": "code",
   "execution_count": 6,
   "metadata": {},
   "outputs": [
    {
     "name": "stdout",
     "output_type": "stream",
     "text": [
      "[[1 2 3 4 5]\n",
      " [2 3 4 5 6]]\n",
      "(2, 5)\n"
     ]
    }
   ],
   "source": [
    "##2D array\n",
    "arr2=np.array([[1,2,3,4,5],[2,3,4,5,6]])\n",
    "print(arr2)\n",
    "print(arr2.shape)"
   ]
  },
  {
   "cell_type": "code",
   "execution_count": 7,
   "metadata": {},
   "outputs": [
    {
     "data": {
      "text/plain": [
       "array([[0],\n",
       "       [2],\n",
       "       [4],\n",
       "       [6],\n",
       "       [8]])"
      ]
     },
     "execution_count": 7,
     "metadata": {},
     "output_type": "execute_result"
    }
   ],
   "source": [
    "np.arange(0,10,2).reshape(5,1)"
   ]
  },
  {
   "cell_type": "code",
   "execution_count": 10,
   "metadata": {},
   "outputs": [
    {
     "name": "stdout",
     "output_type": "stream",
     "text": [
      "Array:\n",
      " [[1 2 3]\n",
      " [4 5 6]]\n",
      "Shape: (2, 3)\n",
      "Number of dimensions: 2\n",
      "size (number of elements): 6\n",
      "Data type: int64\n",
      "Item size(in bytes): 8\n"
     ]
    }
   ],
   "source": [
    "##Attributes of nupy array\n",
    "arr= np.array([[1,2,3],[4,5,6]])\n",
    "\n",
    "print(\"Array:\\n\",arr)\n",
    "print(\"Shape:\",arr.shape)\n",
    "print(\"Number of dimensions:\",arr.ndim)\n",
    "print(\"size (number of elements):\",arr.size)\n",
    "print(\"Data type:\",arr.dtype)\n",
    "print(\"Item size(in bytes):\", arr.itemsize)"
   ]
  },
  {
   "cell_type": "code",
   "execution_count": 12,
   "metadata": {},
   "outputs": [
    {
     "name": "stdout",
     "output_type": "stream",
     "text": [
      "Addition: [11 22 33 44 55]\n",
      "Substraction: [ -9 -18 -27 -36 -45]\n",
      "Multiplication: [ 10  40  90 160 250]\n",
      "Division: [0.1 0.1 0.1 0.1 0.1]\n"
     ]
    }
   ],
   "source": [
    " ##Numpy Vectorized Operation\n",
    "arr1=np.array([1,2,3,4,5])\n",
    "arr2=np.array([10,20,30,40,50])\n",
    "\n",
    "## elements wise addition\n",
    "print(\"Addition:\" , arr1+arr2)\n",
    "\n",
    "## elements wise subtraction \n",
    "print(\"Substraction:\" , arr1-arr2)\n",
    "\n",
    "##elements wise mulpilication\n",
    "print(\"Multiplication:\", arr1* arr2)\n",
    "\n",
    "##elements wise division\n",
    "print(\"Division:\", arr1/arr2)\n",
    "\n"
   ]
  },
  {
   "cell_type": "code",
   "execution_count": 13,
   "metadata": {},
   "outputs": [
    {
     "name": "stdout",
     "output_type": "stream",
     "text": [
      "[1.41421356 1.73205081 2.         2.23606798 2.44948974]\n",
      "[  7.3890561   20.08553692  54.59815003 148.4131591  403.42879349]\n",
      "[ 0.90929743  0.14112001 -0.7568025  -0.95892427 -0.2794155 ]\n",
      "<ufunc 'log'>\n"
     ]
    }
   ],
   "source": [
    "##Universal Function\n",
    "arr=np.array([2,3,4,5,6])\n",
    "##square root\n",
    "print(np.sqrt(arr))\n",
    "##Exponential\n",
    "print(np.exp(arr))\n",
    "##sine\n",
    "print(np.sin(arr))\n",
    "##natural log\n",
    "print(np.log)"
   ]
  },
  {
   "cell_type": "code",
   "execution_count": 16,
   "metadata": {},
   "outputs": [
    {
     "name": "stdout",
     "output_type": "stream",
     "text": [
      "Array: \n",
      " [[ 1  2  3  4]\n",
      " [ 5  6  7  8]\n",
      " [ 9 10 11 12]]\n"
     ]
    }
   ],
   "source": [
    "arr=np.array([[1,2,3,4],[5,6,7,8],[9,10,11,12]])\n",
    "print(\"Array: \\n\" , arr)\n"
   ]
  },
  {
   "cell_type": "code",
   "execution_count": 19,
   "metadata": {},
   "outputs": [
    {
     "data": {
      "text/plain": [
       "np.int64(1)"
      ]
     },
     "execution_count": 19,
     "metadata": {},
     "output_type": "execute_result"
    }
   ],
   "source": [
    "arr[0][0]"
   ]
  },
  {
   "cell_type": "code",
   "execution_count": 21,
   "metadata": {},
   "outputs": [
    {
     "data": {
      "text/plain": [
       "array([[ 7,  8],\n",
       "       [11, 12]])"
      ]
     },
     "execution_count": 21,
     "metadata": {},
     "output_type": "execute_result"
    }
   ],
   "source": [
    "arr[1:,2:]"
   ]
  },
  {
   "cell_type": "code",
   "execution_count": 22,
   "metadata": {},
   "outputs": [
    {
     "name": "stdout",
     "output_type": "stream",
     "text": [
      "[[100   2   3   4]\n",
      " [  5   6   7   8]\n",
      " [  9  10  11  12]]\n"
     ]
    }
   ],
   "source": [
    "##Modify the elements \n",
    "arr[0,0] = 100\n",
    "print(arr)"
   ]
  },
  {
   "cell_type": "code",
   "execution_count": 25,
   "metadata": {},
   "outputs": [
    {
     "name": "stdout",
     "output_type": "stream",
     "text": [
      "[[100   2   3   4]\n",
      " [100 100 100 100]\n",
      " [100 100 100 100]]\n"
     ]
    }
   ],
   "source": [
    "arr[1:] = 100\n",
    "print(arr)"
   ]
  },
  {
   "cell_type": "code",
   "execution_count": 26,
   "metadata": {},
   "outputs": [
    {
     "name": "stdout",
     "output_type": "stream",
     "text": [
      "normalized data: [-1.41421356 -0.70710678  0.          0.70710678  1.41421356]\n"
     ]
    }
   ],
   "source": [
    "## statistical conceps --Normalization\n",
    "##to have a mean of 0 and standard deviation of 1\n",
    "data = np.array([1,2,3,4,5])\n",
    "\n",
    "##calculate mean and standard deviation\n",
    "mean=np.mean(data)\n",
    "std_dev=np.std(data)\n",
    "\n",
    "##normaliation\n",
    "normalized_data= (data-mean)/ std_dev\n",
    "print(\"normalized data:\" , normalized_data)"
   ]
  },
  {
   "cell_type": "code",
   "execution_count": 27,
   "metadata": {},
   "outputs": [
    {
     "name": "stdout",
     "output_type": "stream",
     "text": [
      "Mean: 5.5\n",
      "Median: 5.5\n",
      "Standard Deviation: 2.8722813232690143\n",
      "variance: 8.25\n"
     ]
    }
   ],
   "source": [
    "data = np.array([1,2,3,4,5,6,7,8,9,10])\n",
    "\n",
    "#Mean\n",
    "mean =np.mean(data)\n",
    "print(\"Mean:\", mean)\n",
    "#median\n",
    "median=np.median(data)\n",
    "print(\"Median:\",median)\n",
    "#Standard_deviation\n",
    "std_dev=np.std(data)\n",
    "print(\"Standard Deviation:\", std_dev)\n",
    "\n",
    "#Variance\n",
    "variance=np.var(data)\n",
    "print(\"variance:\",variance)"
   ]
  },
  {
   "cell_type": "code",
   "execution_count": null,
   "metadata": {},
   "outputs": [
    {
     "data": {
      "text/plain": [
       "array([6, 7, 8])"
      ]
     },
     "execution_count": 31,
     "metadata": {},
     "output_type": "execute_result"
    }
   ],
   "source": [
    "##Logical Operation\n",
    "data= np.array([1,2,3,4,5,6,7,8,9,10])\n",
    "data[(data>=5) & (data<=8)]"
   ]
  }
 ],
 "metadata": {
  "kernelspec": {
   "display_name": "venv",
   "language": "python",
   "name": "python3"
  },
  "language_info": {
   "codemirror_mode": {
    "name": "ipython",
    "version": 3
   },
   "file_extension": ".py",
   "mimetype": "text/x-python",
   "name": "python",
   "nbconvert_exporter": "python",
   "pygments_lexer": "ipython3",
   "version": "3.12.0"
  }
 },
 "nbformat": 4,
 "nbformat_minor": 2
}
