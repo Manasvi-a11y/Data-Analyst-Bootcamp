{
 "cells": [
  {
   "cell_type": "code",
   "execution_count": 4,
   "metadata": {},
   "outputs": [
    {
     "name": "stdout",
     "output_type": "stream",
     "text": [
      "Original array\n",
      "[[18  9  6 14  2]\n",
      " [ 6  9 10 18  1]\n",
      " [13 17 11  3  3]\n",
      " [ 3 12  1 12  1]\n",
      " [ 4 16  7 16 18]]\n",
      "modify array\n",
      "[[18  9  1 14  2]\n",
      " [ 6  9  1 18  1]\n",
      " [13 17  1  3  3]\n",
      " [ 3 12  1 12  1]\n",
      " [ 4 16  1 16 18]]\n"
     ]
    }
   ],
   "source": [
    "import numpy as np\n",
    "##Create a NumPy array of shape (5, 5) filled with random integers\n",
    "array=np.random.randint(1,21 ,size=(5,5)) \n",
    "print(\"Original array\")\n",
    "print(array)\n",
    "\n",
    "##replace array coloumn with 1\n",
    "array[:,2]=1\n",
    "print(\"modify array\")\n",
    "print(array)"
   ]
  },
  {
   "cell_type": "code",
   "execution_count": 6,
   "metadata": {},
   "outputs": [
    {
     "name": "stdout",
     "output_type": "stream",
     "text": [
      "Original array\n",
      "[[ 1  2  3  4]\n",
      " [ 5  6  7  8]\n",
      " [ 9 10 11 12]\n",
      " [13 14 15 16]]\n",
      "Modify array\n",
      "[[ 0  2  3  4]\n",
      " [ 5  0  7  8]\n",
      " [ 9 10  0 12]\n",
      " [13 14 15  0]]\n"
     ]
    }
   ],
   "source": [
    "##Create a NumPy array of shape (4, 4) with values from 1 to 16\n",
    "array=np.arange(1,17).reshape(4,4)\n",
    "print(\"Original array\")\n",
    "print(array)\n",
    "\n",
    "##replace diagonal with 0\n",
    "np.fill_diagonal(array,0)\n",
    "print(\"Modify array\")\n",
    "print(array)"
   ]
  },
  {
   "cell_type": "code",
   "execution_count": 9,
   "metadata": {},
   "outputs": [
    {
     "name": "stdout",
     "output_type": "stream",
     "text": [
      "Original array\n",
      "[[ 1  2  3  4  5  6]\n",
      " [ 7  8  9 10 11 12]\n",
      " [13 14 15 16 17 18]\n",
      " [19 20 21 22 23 24]\n",
      " [25 26 27 28 29 30]\n",
      " [31 32 33 34 35 36]]\n",
      "Sub-array\n",
      "[[14 15 16]\n",
      " [20 21 22]\n",
      " [26 27 28]]\n"
     ]
    }
   ],
   "source": [
    "##create a NumPy array of shape (6, 6) with values from 1 to 36\n",
    "array = np.arange(1,37).reshape((6,6))\n",
    "print(\"Original array\")\n",
    "print(array)\n",
    "\n",
    "##Extract the subarray\n",
    "sub_array= array[2:5, 1:4]\n",
    "print(\"Sub-array\")\n",
    "print(sub_array)"
   ]
  },
  {
   "cell_type": "code",
   "execution_count": null,
   "metadata": {},
   "outputs": [],
   "source": [
    "# Create a NumPy array of shape (5, 5) filled with random integers\n",
    "array = np.random.randint(1, 21, size=(5, 5))\n",
    "print(\"Original array:\")\n",
    "print(array)\n",
    "\n",
    "#Extract the elements on the border\n",
    "border_elements = np.concatenate((array[0,:], array[-1,]))"
   ]
  }
 ],
 "metadata": {
  "kernelspec": {
   "display_name": "venv",
   "language": "python",
   "name": "python3"
  },
  "language_info": {
   "codemirror_mode": {
    "name": "ipython",
    "version": 3
   },
   "file_extension": ".py",
   "mimetype": "text/x-python",
   "name": "python",
   "nbconvert_exporter": "python",
   "pygments_lexer": "ipython3",
   "version": "3.12.0"
  }
 },
 "nbformat": 4,
 "nbformat_minor": 2
}
