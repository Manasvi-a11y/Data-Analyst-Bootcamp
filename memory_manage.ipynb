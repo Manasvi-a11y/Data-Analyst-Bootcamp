{
 "cells": [
  {
   "cell_type": "code",
   "execution_count": 14,
   "id": "c28fda75",
   "metadata": {},
   "outputs": [
    {
     "name": "stdout",
     "output_type": "stream",
     "text": [
      "2\n"
     ]
    }
   ],
   "source": [
    "import sys\n",
    "a=[]\n",
    "print(sys.getrefcount(a))"
   ]
  },
  {
   "cell_type": "code",
   "execution_count": 15,
   "id": "730e9653",
   "metadata": {},
   "outputs": [
    {
     "name": "stdout",
     "output_type": "stream",
     "text": [
      "3\n"
     ]
    }
   ],
   "source": [
    "b=a\n",
    "print(sys.getrefcount(b))"
   ]
  },
  {
   "cell_type": "code",
   "execution_count": 16,
   "id": "d33443f6",
   "metadata": {},
   "outputs": [
    {
     "name": "stdout",
     "output_type": "stream",
     "text": [
      "2\n"
     ]
    }
   ],
   "source": [
    "del b\n",
    "print(sys.getrefcount(a))"
   ]
  },
  {
   "cell_type": "code",
   "execution_count": 17,
   "id": "be698646",
   "metadata": {},
   "outputs": [],
   "source": [
    "## Garbage collector\n",
    "import gc\n",
    "#enable garnage collector\n",
    "gc.enable()\n",
    "\n",
    "\n"
   ]
  },
  {
   "cell_type": "code",
   "execution_count": 18,
   "id": "a1670423",
   "metadata": {},
   "outputs": [],
   "source": [
    "gc.disable()"
   ]
  },
  {
   "cell_type": "code",
   "execution_count": 19,
   "id": "663cb131",
   "metadata": {},
   "outputs": [
    {
     "data": {
      "text/plain": [
       "0"
      ]
     },
     "execution_count": 19,
     "metadata": {},
     "output_type": "execute_result"
    }
   ],
   "source": [
    "gc.collect()"
   ]
  },
  {
   "cell_type": "code",
   "execution_count": 20,
   "id": "26c8cb6f",
   "metadata": {},
   "outputs": [
    {
     "name": "stdout",
     "output_type": "stream",
     "text": [
      "[{'collections': 183, 'collected': 1699, 'uncollectable': 0}, {'collections': 16, 'collected': 474, 'uncollectable': 0}, {'collections': 3, 'collected': 1068, 'uncollectable': 0}]\n"
     ]
    }
   ],
   "source": [
    "## Get garbage collector stats\n",
    "print(gc.get_stats())"
   ]
  },
  {
   "cell_type": "code",
   "execution_count": 21,
   "id": "a9a04220",
   "metadata": {},
   "outputs": [
    {
     "name": "stdout",
     "output_type": "stream",
     "text": [
      "[]\n"
     ]
    }
   ],
   "source": [
    "# Get unreachable objects\n",
    "print(gc.garbage)"
   ]
  },
  {
   "cell_type": "code",
   "execution_count": 25,
   "id": "d200c8f2",
   "metadata": {},
   "outputs": [],
   "source": [
    "import gc\n",
    "\n",
    "class MyObjects:\n",
    "    def __init__(self,name):\n",
    "        self.name=name\n",
    "        print(f\"Object {self.name} created\")\n",
    "\n",
    "        # create circular reference\n",
    "\n",
    "        obj1 = MyObjects(\"obj1\")\n",
    "        obj2 = MyObjects(\"obj2\")\n",
    "        obj1.ref = obj2\n",
    "        obj2.ref = obj1\n",
    "        del obj1\n",
    "        del obj2\n",
    "\n",
    "    gc.collect()\n",
    "        \n",
    "\n"
   ]
  },
  {
   "cell_type": "code",
   "execution_count": 1,
   "id": "ae7b0628",
   "metadata": {},
   "outputs": [],
   "source": [
    "def generate_numbers(n):\n",
    "    for i in range(n):\n",
    "        yield i\n",
    "        for num in generate_numbers(100000):\n",
    "            print(num)\n",
    "            if num>10:\n",
    "                break\n",
    " "
   ]
  },
  {
   "cell_type": "code",
   "execution_count": null,
   "id": "c87679d5",
   "metadata": {},
   "outputs": [],
   "source": [
    "## Profiling Memory usage with tracemalles\n",
    "import tracemalloc\n",
    "\n",
    "def create_list():\n",
    "    return[i for i in range(10000)]\n",
    "\n",
    "def main():\n",
    "    tracemalloc.start()\n",
    "\n",
    "    create_list()\n",
    "\n",
    "    snapshot = tracemalloc.take_snapshot()\n",
    "    top_stats = snapshot.statistics('lineno')\n",
    "\n",
    "    print(\"[Top 10]\")\n",
    "    for stat in top_stats[::]:\n",
    "        print(stat)"
   ]
  },
  {
   "cell_type": "code",
   "execution_count": 4,
   "id": "1f15b441",
   "metadata": {},
   "outputs": [
    {
     "name": "stdout",
     "output_type": "stream",
     "text": [
      "[Top 10]\n",
      "c:\\Data Analyst Bootcamp\\venv\\Lib\\selectors.py:314: size=144 KiB, count=3, average=48.0 KiB\n",
      "c:\\Data Analyst Bootcamp\\venv\\Lib\\json\\decoder.py:353: size=1422 B, count=22, average=65 B\n",
      "c:\\Data Analyst Bootcamp\\venv\\Lib\\site-packages\\zmq\\sugar\\socket.py:805: size=1056 B, count=6, average=176 B\n",
      "c:\\Data Analyst Bootcamp\\venv\\Lib\\site-packages\\traitlets\\traitlets.py:731: size=857 B, count=14, average=61 B\n",
      "c:\\Data Analyst Bootcamp\\venv\\Lib\\threading.py:272: size=760 B, count=2, average=380 B\n",
      "c:\\Data Analyst Bootcamp\\venv\\Lib\\site-packages\\jupyter_client\\session.py:1057: size=676 B, count=5, average=135 B\n",
      "c:\\Data Analyst Bootcamp\\venv\\Lib\\site-packages\\IPython\\core\\compilerop.py:86: size=648 B, count=7, average=93 B\n",
      "c:\\Data Analyst Bootcamp\\venv\\Lib\\site-packages\\ipykernel\\iostream.py:287: size=632 B, count=7, average=90 B\n",
      "c:\\Data Analyst Bootcamp\\venv\\Lib\\site-packages\\jupyter_client\\session.py:100: size=629 B, count=4, average=157 B\n",
      "c:\\Data Analyst Bootcamp\\venv\\Lib\\site-packages\\zmq\\sugar\\attrsettr.py:45: size=611 B, count=13, average=47 B\n"
     ]
    }
   ],
   "source": [
    "main()"
   ]
  },
  {
   "cell_type": "code",
   "execution_count": null,
   "id": "0771509d",
   "metadata": {},
   "outputs": [],
   "source": []
  }
 ],
 "metadata": {
  "kernelspec": {
   "display_name": "venv",
   "language": "python",
   "name": "python3"
  },
  "language_info": {
   "codemirror_mode": {
    "name": "ipython",
    "version": 3
   },
   "file_extension": ".py",
   "mimetype": "text/x-python",
   "name": "python",
   "nbconvert_exporter": "python",
   "pygments_lexer": "ipython3",
   "version": "3.12.0"
  }
 },
 "nbformat": 4,
 "nbformat_minor": 5
}
